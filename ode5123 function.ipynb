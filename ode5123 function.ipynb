{
 "cells": [
  {
   "cell_type": "code",
   "execution_count": 1,
   "metadata": {},
   "outputs": [],
   "source": [
    "import numpy as np\n",
    "import matplotlib.pyplot as plt\n",
    "import pandas as pd\n",
    "%matplotlib inline"
   ]
  },
  {
   "cell_type": "code",
   "execution_count": 3,
   "metadata": {},
   "outputs": [],
   "source": [
    "def NLM(w0, bu0, bs0, nt):\n",
    "    w = np.zeros(nt)\n",
    "    bu = np.zeros(nt)\n",
    "    bs = np.zeros(nt)\n",
    "\n",
    "    w[0] = w0\n",
    "    bu[0] = bu0\n",
    "    bs[0] = bs0\n",
    "    for t in range(nt-1):\n",
    "        if bs[t] > bu[t]:\n",
    "            w[t+1] = w[t] + bs[t]*dt\n",
    "        else:\n",
    "            w[t+1] = w[t] + bu[t]*dt\n",
    "\n",
    "        bu[t+1] = bu[t] - (Nu**2)*w[t]*dt\n",
    "        bs[t+1] = bs[t] - (Ns**2)*w[t]*dt\n",
    "    return w0, bu0, bs0"
   ]
  },
  {
   "cell_type": "code",
   "execution_count": 4,
   "metadata": {},
   "outputs": [],
   "source": [
    "def TLM(w0, bu0, bs0, wp0, bup0, bsp0, nt):\n",
    "    # basic state?\n",
    "    w = np.zeros(nt)\n",
    "    bu = np.zeros(nt)\n",
    "    bs = np.zeros(nt)\n",
    "\n",
    "    # p for prime, perturbation\n",
    "    wp = np.zeros(nt)\n",
    "    bup = np.zeros(nt)\n",
    "    bsp = np.zeros(nt)\n",
    "\n",
    "    # initial condition for basic state\n",
    "    w[0] = w0\n",
    "    bu[0] = bu0\n",
    "    bs[0] = bs0\n",
    "\n",
    "    # initial condition for perturbaitons are all zeros, \n",
    "    wp[0] = wp0\n",
    "    bup[0] = bup0\n",
    "    bsp[0] = bsp0\n",
    "    # no need to specify\n",
    "    for t in range(nt-1):\n",
    "        if bs[t] > bu[t]:\n",
    "            wp[t+1] = wp[t] + dt*bup[t]\n",
    "            w[t+1] = w[t] + bs[t]*dt   \n",
    "        else:\n",
    "            wp[t+1] = wp[t] + dt*bsp[t]\n",
    "            w[t+1] = w[t] + bu[t]*dt\n",
    "\n",
    "        bup[t+1] = bup[t] - (Nu**2)*wp[t]*dt\n",
    "        bu[t+1] = bu[t] - (Nu**2)*w[t]*dt\n",
    "        bsp[t+1] = bsp[t] - (Ns**2)*wp[t]*dt\n",
    "        bs[t+1] = bs[t] - (Ns**2)*w[t]*dt\n",
    "        \n",
    "    return wp, bup, bsp"
   ]
  },
  {
   "cell_type": "code",
   "execution_count": null,
   "metadata": {},
   "outputs": [],
   "source": [
    "def ADJ(adj_forcing, traj, nt):\n",
    "    w, bu, bs = traj\n",
    "    awf, absf, abuf = adj_forcinging\n",
    "    awlist = [awf]\n",
    "    abslist = [absf]\n",
    "    abulist = [abuf]\n",
    "    \n",
    "    for t in np.arange(nt-1, 0, -1):\n",
    "        awc = awc - Ns**2 * absf * dt - Nu**2 * abuf * dt\n",
    "        absc = absc + absf\n",
    "        abuc = abuc + abuf\n",
    "        \n",
    "#         absf = 0\n",
    "#         abuf = 0\n",
    "        \n",
    "        if bu[t] > bs[t]:\n",
    "            absc = absc + Ns * awf * dt\n",
    "        else:\n",
    "            abuc = abuc + Nu * awf * dt\n",
    "            \n",
    "        awc = awc + awf\n",
    "        \n",
    "#         awf = 0\n",
    "        \n",
    "        awlist.append(awc)\n",
    "        abulist.append(abuc)\n",
    "        abslist.append(absc)\n",
    "        \n",
    "        awf = awc\n",
    "        abuf = abuc\n",
    "        absf = absc\n",
    "    \n",
    "    return np.array(awlist[::-1]), np.array(abulist[::-1]), np.array(abslist[::-1])\n",
    "        \n",
    "        \n",
    "    "
   ]
  }
 ],
 "metadata": {
  "kernelspec": {
   "display_name": "Python 3 (ipykernel)",
   "language": "python",
   "name": "python3"
  },
  "language_info": {
   "codemirror_mode": {
    "name": "ipython",
    "version": 3
   },
   "file_extension": ".py",
   "mimetype": "text/x-python",
   "name": "python",
   "nbconvert_exporter": "python",
   "pygments_lexer": "ipython3",
   "version": "3.9.6"
  }
 },
 "nbformat": 4,
 "nbformat_minor": 4
}
