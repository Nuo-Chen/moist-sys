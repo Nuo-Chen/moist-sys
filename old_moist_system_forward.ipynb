{
 "cells": [
  {
   "cell_type": "code",
   "execution_count": null,
   "metadata": {},
   "outputs": [],
   "source": [
    "import numpy as np\n",
    "import pandas as pd\n",
    "import matplotlib.pyplot as plt\n",
    "%matplotlib inline"
   ]
  },
  {
   "cell_type": "code",
   "execution_count": null,
   "metadata": {},
   "outputs": [],
   "source": [
    "nt = 50000\n",
    "w = np.zeros(nt)\n",
    "bu = np.zeros(nt)\n",
    "bs = np.zeros(nt)\n",
    "dt = 0.1\n",
    "Nu = 0.012      # Holton pp 58\n",
    "Ns = 0.0012\n",
    "\n",
    "w[0] = 0.1\n",
    "bu[0] = 0\n",
    "bs[0] = 1\n",
    "\n",
    "\n",
    "# leap frog\n",
    "for t in range(1):\n",
    "    if bs[t] > bu[t]:\n",
    "        w[t+1] = w[t] + bs[t]*dt\n",
    "    else:\n",
    "        w[t+1] = w[t] + bu[t]*dt\n",
    "    \n",
    "    bu[t+1] = bu[t] - (Nu**2)*w[t]*dt\n",
    "    bs[t+1] = bs[t] - (Ns**2)*w[t]*dt\n",
    "    \n",
    "\n",
    "\n",
    "for t in range(1,nt-1):\n",
    "    if bs[t] > bu[t]:\n",
    "        w[t+1] = w[t-1] + bs[t]*2.*dt\n",
    "    else:\n",
    "        w[t+1] = w[t-1] + bu[t]*2.*dt\n",
    "    \n",
    "    bu[t+1] = bu[t-1] - (Nu**2)*w[t]*2.*dt\n",
    "    bs[t+1] = bs[t-1] - (Ns**2)*w[t]*2.*dt\n",
    "    \n",
    "M = bu[0]/Nu**2 - bs[0]/Ns**2"
   ]
  },
  {
   "cell_type": "code",
   "execution_count": null,
   "metadata": {},
   "outputs": [],
   "source": [
    "plt.plot(w)"
   ]
  },
  {
   "cell_type": "code",
   "execution_count": null,
   "metadata": {},
   "outputs": [],
   "source": [
    "plt.plot(bu, label='bu')\n",
    "plt.plot(bs, label='bs')"
   ]
  },
  {
   "cell_type": "raw",
   "metadata": {},
   "source": [
    "for t in range(nt-1):\n",
    "    \n",
    "    bu[t+1] = bu[t] - Nu * w[t] * dt\n",
    "    bs[t+1] = bs[t] - Ns * w[t] * dt\n",
    "        \n",
    "    if qt[t]<qvs:\n",
    "        w[t+1] = w[t] + Nu*bu[t] * dt\n",
    "        # use theta_e[t] or theta_e[t+1]?\n",
    "        qt[t+1] = (bu[t+1] - theta_e[t]) / (epsilon - 1)\n",
    "    else:\n",
    "        w[t+1] = w[t] + Ns*bs[t] * dt\n",
    "        qt[t+1] = (theta_e[t] + (epsilon - 1)*qvs - bs[t])/epsilon + qvs\n",
    "    \n",
    "    theta_e[t+1] = theta_e[t]# + Lv/Cp*(qt[t+1]-qt[t]) * dt"
   ]
  },
  {
   "cell_type": "markdown",
   "metadata": {},
   "source": [
    "### TLM"
   ]
  },
  {
   "cell_type": "code",
   "execution_count": null,
   "metadata": {},
   "outputs": [],
   "source": [
    "# basic state?\n",
    "w = np.zeros(nt)\n",
    "bu = np.zeros(nt)\n",
    "bs = np.zeros(nt)\n",
    "\n",
    "# p for prime, perturbation\n",
    "wp = np.zeros(nt)\n",
    "bup = np.zeros(nt)\n",
    "bsp = np.zeros(nt)\n",
    "\n",
    "# initial condition for basic state\n",
    "#w[0] = 0.1\n",
    "#bu[0] = 0\n",
    "#bs[0] = 0\n",
    "\n",
    "# initial condition for perturbaitons are all zeros, \n",
    "#wp[0] = 1e-4\n",
    "#bup[0] = 1e-5\n",
    "#bsp[0] = 1e-6\n",
    "\n",
    "# initial condition for basic state\n",
    "w[0] = 0.1\n",
    "bu[0] = 0\n",
    "bs[0] = 0\n",
    "\n",
    "# initial condition for perturbaitons are all zeros, \n",
    "wp[0] = 0.1\n",
    "bup[0] = 0\n",
    "bsp[0] = 0.1\n",
    "\n",
    "# leap frog\n",
    "for t in range(1):\n",
    "    if bs[t] > bu[t]:\n",
    "        wp[t+1] = wp[t] + dt*bup[t]\n",
    "        w[t+1] = w[t] + bs[t]*dt\n",
    "    else:\n",
    "        wp[t+1] = wp[t] + dt*bsp[t]\n",
    "        w[t+1] = w[t] + bu[t]*dt\n",
    "        \n",
    "    bup[t+1] = bup[t] - (Nu**2)*wp[t]*dt\n",
    "    bu[t+1] = bu[t] - (Nu**2)*w[t]*dt\n",
    "    bsp[t+1] = bsp[t] - (Ns**2)*wp[t]*dt\n",
    "    bs[t+1] = bs[t] - (Ns**2)*w[t]*dt\n",
    "    \n",
    "\n",
    "\n",
    "for t in range(1,nt-1):\n",
    "    if bs[t] > bu[t]:\n",
    "        w[t+1] = w[t-1] + bs[t]*2.*dt\n",
    "        wp[t+1] = wp[t-1] + bsp[t]*2.*dt\n",
    "    else:\n",
    "        w[t+1] = w[t-1] + bu[t]*2.*dt\n",
    "        wp[t+1] = wp[t-1] + bup[t]*2.*dt\n",
    "    \n",
    "    bu[t+1] = bu[t-1] - (Nu**2)*w[t]*2.*dt\n",
    "    bup[t+1] = bup[t-1] - (Nu**2)*wp[t]*2.*dt\n",
    "    bs[t+1] = bs[t-1] - (Ns**2)*w[t]*2.*dt\n",
    "    bsp[t+1] = bsp[t-1] - (Ns**2)*wp[t]*2.*dt\n",
    "tlm_pert = [wp, bup, bsp]\n"
   ]
  },
  {
   "cell_type": "code",
   "execution_count": null,
   "metadata": {},
   "outputs": [],
   "source": [
    "def sens_subplots(var, ax, title):\n",
    "    cs = ax.plot(var)\n",
    "    ax.set_title(title)"
   ]
  },
  {
   "cell_type": "code",
   "execution_count": null,
   "metadata": {},
   "outputs": [],
   "source": [
    "nrows = 1\n",
    "ncols = 3\n",
    "fig,ax = plt.subplots(nrows=nrows,\n",
    "                      ncols=ncols, figsize=(16,5))\n",
    "sens_subplots(wp, ax[0], \"leap frog TLM w'\")\n",
    "sens_subplots(bup, ax[1], \"bu'\")\n",
    "sens_subplots(bsp, ax[2], \"bs'\")"
   ]
  },
  {
   "cell_type": "code",
   "execution_count": null,
   "metadata": {},
   "outputs": [],
   "source": [
    "wp[-1], bup[-1], bsp[-1]"
   ]
  },
  {
   "cell_type": "code",
   "execution_count": null,
   "metadata": {},
   "outputs": [],
   "source": [
    "a = pd.read_csv('/home1/class/fall17/nchen67/moistPV/fortran_moist_leapfrog/fort.16', delim_whitespace=True, \n",
    "                header=None, names=['a_w', 'a_bu', 'a_bs'])\n",
    "a_w = a.a_w.values[::-1]\n",
    "a_bu = a.a_bu.values[::-1]\n",
    "a_bs = a.a_bs.values[::-1]"
   ]
  },
  {
   "cell_type": "code",
   "execution_count": null,
   "metadata": {},
   "outputs": [],
   "source": [
    "nrows = 1\n",
    "ncols = 3\n",
    "fig,ax = plt.subplots(nrows=nrows, ncols=ncols, figsize=(12,5))\n",
    "sk = 10\n",
    "sens_subplots(a_w[::sk], ax[0], 'sensitivity to w')\n",
    "sens_subplots(a_bu[::sk], ax[1], 'sensitivity to bu')\n",
    "sens_subplots(a_bs[::sk], ax[2], 'sensitivity to bs')"
   ]
  },
  {
   "cell_type": "code",
   "execution_count": null,
   "metadata": {},
   "outputs": [],
   "source": [
    "plt.figure(figsize=(18,4))\n",
    "sk=1\n",
    "plt.plot(a_w[0:100:sk])"
   ]
  },
  {
   "cell_type": "code",
   "execution_count": null,
   "metadata": {},
   "outputs": [],
   "source": [
    "a = pd.read_csv('/home1/class/fall17/nchen67/moistPV/fortran_moist_leapfrog/fort.15', delim_whitespace=True, \n",
    "                header=None, names=['w_prime', 'bu_prime', 'bs_prime'])\n",
    "w_prime = a.w_prime\n",
    "bu_prime = a.bu_prime\n",
    "bs_prime = a.bs_prime"
   ]
  },
  {
   "cell_type": "code",
   "execution_count": null,
   "metadata": {},
   "outputs": [],
   "source": [
    "nrows = 1\n",
    "ncols = 3\n",
    "fig,ax = plt.subplots(nrows=nrows, ncols=ncols, figsize=(12,5))\n",
    "sens_subplots(w_prime, ax[0], 'w')\n",
    "sens_subplots(bu_prime, ax[1], 'bu')\n",
    "sens_subplots(bu_prime, ax[2], 'bs')"
   ]
  },
  {
   "cell_type": "code",
   "execution_count": null,
   "metadata": {},
   "outputs": [],
   "source": [
    "w_prime.size, a_w.size"
   ]
  },
  {
   "cell_type": "code",
   "execution_count": null,
   "metadata": {},
   "outputs": [],
   "source": [
    "dR = w_prime*a_w[1:] + bu_prime*a_bu[1:] + bs_prime*a_bs[1:]\n",
    "plt.plot(dR)\n"
   ]
  },
  {
   "cell_type": "code",
   "execution_count": null,
   "metadata": {},
   "outputs": [],
   "source": []
  }
 ],
 "metadata": {
  "kernelspec": {
   "display_name": "Python 3",
   "language": "python",
   "name": "python3"
  },
  "language_info": {
   "codemirror_mode": {
    "name": "ipython",
    "version": 3
   },
   "file_extension": ".py",
   "mimetype": "text/x-python",
   "name": "python",
   "nbconvert_exporter": "python",
   "pygments_lexer": "ipython3",
   "version": "3.8.1"
  }
 },
 "nbformat": 4,
 "nbformat_minor": 4
}
